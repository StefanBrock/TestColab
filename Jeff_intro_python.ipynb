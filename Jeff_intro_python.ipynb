{
  "cells": [
    {
      "cell_type": "markdown",
      "metadata": {
        "id": "view-in-github",
        "colab_type": "text"
      },
      "source": [
        "<a href=\"https://colab.research.google.com/github/StefanBrock/TestColab/blob/main/Jeff_intro_python.ipynb\" target=\"_parent\"><img src=\"https://colab.research.google.com/assets/colab-badge.svg\" alt=\"Open In Colab\"/></a>"
      ]
    },
    {
      "cell_type": "markdown",
      "source": [
        "**Python short introduction**\n",
        "\n",
        "inspired by [Jeff Heaton](https://sites.wustl.edu/jeffheaton/)\n"
      ],
      "metadata": {
        "id": "S2INQrb2DQ0O"
      }
    },
    {
      "cell_type": "markdown",
      "metadata": {
        "id": "4G4u2vFPCJeq"
      },
      "source": [
        "# Module 1 Material\n",
        "\n",
        "* Part 1.1: Course Overview [[Video]](https://www.youtube.com/watch?v=IzZSwS45vt4&list=PLjy4p-07OYzulelvJ5KVaT2pDlxivl_BN) [[Notebook]](https://github.com/jeffheaton/t81_558_deep_learning/blob/master/t81_558_class_01_1_overview.ipynb)\n",
        "* **Part 1.2: Introduction to Python** [[Video]](https://www.youtube.com/watch?v=czq5d53vKvo&list=PLjy4p-07OYzulelvJ5KVaT2pDlxivl_BN) [[Notebook]](https://github.com/jeffheaton/t81_558_deep_learning/blob/master/t81_558_class_01_2_intro_python.ipynb)\n",
        "* Part 1.3: Python Lists, Dictionaries, Sets and JSON [[Video]](https://www.youtube.com/watch?v=kcGx2I5akSs&list=PLjy4p-07OYzulelvJ5KVaT2pDlxivl_BN) [[Notebook]](https://github.com/jeffheaton/t81_558_deep_learning/blob/master/t81_558_class_01_3_python_collections.ipynb)\n",
        "* Part 1.4: File Handling [[Video]](https://www.youtube.com/watch?v=FSuSLCMgCZc&list=PLjy4p-07OYzulelvJ5KVaT2pDlxivl_BN) [[Notebook]](https://github.com/jeffheaton/t81_558_deep_learning/blob/master/t81_558_class_01_4_python_files.ipynb)\n",
        "* Part 1.5: Functions, Lambdas, and Map/Reduce [[Video]](https://www.youtube.com/watch?v=jQH1ZCSj6Ng&list=PLjy4p-07OYzulelvJ5KVaT2pDlxivl_BN) [[Notebook]](https://github.com/jeffheaton/t81_558_deep_learning/blob/master/t81_558_class_01_5_python_functional.ipynb)"
      ]
    },
    {
      "cell_type": "markdown",
      "metadata": {
        "id": "C2qxRyeXCJet"
      },
      "source": [
        "# Google CoLab Instructions\n",
        "\n",
        "The following code ensures that Google CoLab is running the correct version of TensorFlow."
      ]
    },
    {
      "cell_type": "code",
      "execution_count": null,
      "metadata": {
        "id": "ubQ9e4VlCJeu",
        "colab": {
          "base_uri": "https://localhost:8080/"
        },
        "outputId": "2dd83e9f-863d-4b2f-9576-b76658d76a45"
      },
      "outputs": [
        {
          "output_type": "stream",
          "name": "stdout",
          "text": [
            "Note: using Google CoLab\n"
          ]
        }
      ],
      "source": [
        "try:\n",
        "    from google.colab import drive\n",
        "    # %tensorflow_version 2.x\n",
        "    COLAB = True\n",
        "    print(\"Note: using Google CoLab\")\n",
        "except:\n",
        "    print(\"Note: not using Google CoLab\")\n",
        "    COLAB = False"
      ]
    },
    {
      "cell_type": "markdown",
      "metadata": {
        "id": "oC7K2v1DCJew"
      },
      "source": [
        "# Part 1: Introduction to Python\n",
        "Like most tutorials, we will begin by printing Hello World."
      ]
    },
    {
      "cell_type": "code",
      "execution_count": null,
      "metadata": {
        "id": "7l9OUSilCJey",
        "outputId": "673cf4bd-d06c-4606-b465-7a43ccaa2bfd",
        "colab": {
          "base_uri": "https://localhost:8080/"
        }
      },
      "outputs": [
        {
          "output_type": "stream",
          "name": "stdout",
          "text": [
            "Hello World\n"
          ]
        }
      ],
      "source": [
        "print(\"Hello World\")"
      ]
    },
    {
      "cell_type": "markdown",
      "metadata": {
        "id": "v0gAlrZoCJez"
      },
      "source": [
        "Comments can begin anywhere in a line."
      ]
    },
    {
      "cell_type": "code",
      "source": [
        "a = 15"
      ],
      "metadata": {
        "id": "YcXu7t7Unbjk"
      },
      "execution_count": null,
      "outputs": []
    },
    {
      "cell_type": "code",
      "execution_count": null,
      "metadata": {
        "id": "ieD8UhVdCJez",
        "outputId": "9591487c-5d7a-4165-c984-e11a93e93e28",
        "colab": {
          "base_uri": "https://localhost:8080/"
        }
      },
      "outputs": [
        {
          "output_type": "stream",
          "name": "stdout",
          "text": [
            "Hello World\n"
          ]
        }
      ],
      "source": [
        "# Single line comment (this has no effect on your program)\n",
        "print(\"Hello World\") # Say hello"
      ]
    },
    {
      "cell_type": "markdown",
      "metadata": {
        "id": "WztdLeWkCJe1"
      },
      "source": [
        " The triple quote allows for multiple lines of text."
      ]
    },
    {
      "cell_type": "code",
      "execution_count": null,
      "metadata": {
        "id": "DFpXpo83CJe2",
        "outputId": "2cc53e03-8a5f-41fc-9432-4e3d72d59b60",
        "colab": {
          "base_uri": "https://localhost:8080/"
        }
      },
      "outputs": [
        {
          "output_type": "stream",
          "name": "stdout",
          "text": [
            "Print\n",
            "Multiple\n",
            "Lines\n",
            "\n"
          ]
        }
      ],
      "source": [
        "print(\"\"\"Print\n",
        "Multiple\n",
        "Lines\n",
        "\"\"\")"
      ]
    },
    {
      "cell_type": "markdown",
      "metadata": {
        "id": "YPF1ytRtCJe5"
      },
      "source": [
        "However, there is no difference between single (') and double (\") quotes in Python, and you may use whichever you like.  "
      ]
    },
    {
      "cell_type": "code",
      "execution_count": null,
      "metadata": {
        "id": "Gsz8lXF6CJe5",
        "outputId": "c5786b84-cd42-44c9-90a8-fcbe6cf37bce",
        "colab": {
          "base_uri": "https://localhost:8080/"
        }
      },
      "outputs": [
        {
          "output_type": "stream",
          "name": "stdout",
          "text": [
            "Hello World\n"
          ]
        }
      ],
      "source": [
        "print('Hello World')"
      ]
    },
    {
      "cell_type": "markdown",
      "metadata": {
        "id": "v9tM2dPzCJe6"
      },
      "source": [
        "The following code prints numbers and strings."
      ]
    },
    {
      "cell_type": "code",
      "execution_count": null,
      "metadata": {
        "id": "InFyY_sJCJe7",
        "outputId": "b83ec6b3-e083-444d-ce54-af1b732a9bff",
        "colab": {
          "base_uri": "https://localhost:8080/"
        }
      },
      "outputs": [
        {
          "output_type": "stream",
          "name": "stdout",
          "text": [
            "42.5\n",
            "42 -> 43.1\n"
          ]
        }
      ],
      "source": [
        "print(42.5)\n",
        "print(42,'->',43.1)"
      ]
    },
    {
      "cell_type": "markdown",
      "metadata": {
        "id": "bZ4ycVf5CJe7"
      },
      "source": [
        "The following code assigns an integer value to a variable named \"a\" and a string value to a variable named \"b.\""
      ]
    },
    {
      "cell_type": "code",
      "execution_count": null,
      "metadata": {
        "id": "7vG-_7pTCJe7",
        "outputId": "574fa247-999b-4262-9454-4184f4838125",
        "colab": {
          "base_uri": "https://localhost:8080/"
        }
      },
      "outputs": [
        {
          "output_type": "stream",
          "name": "stdout",
          "text": [
            "10\n",
            "10 ten\n"
          ]
        }
      ],
      "source": [
        "a = 10\n",
        "b = \"ten\"\n",
        "print(a)\n",
        "print(a,b)"
      ]
    },
    {
      "cell_type": "markdown",
      "metadata": {
        "id": "fRoYS1k8CJe8"
      },
      "source": [
        "The key feature of variables is that they can change.  The following code demonstrates how to change the values held by variables."
      ]
    },
    {
      "cell_type": "code",
      "execution_count": null,
      "metadata": {
        "id": "ndjya7CiCJe9",
        "outputId": "bac59907-27d2-4e06-ab3c-d6e498aca75e",
        "colab": {
          "base_uri": "https://localhost:8080/"
        }
      },
      "outputs": [
        {
          "output_type": "stream",
          "name": "stdout",
          "text": [
            "10\n",
            "11\n"
          ]
        }
      ],
      "source": [
        "a = 10\n",
        "print(a)\n",
        "a = a + 1\n",
        "print(a)"
      ]
    },
    {
      "cell_type": "markdown",
      "metadata": {
        "id": "hvwrVNd9CJe9"
      },
      "source": [
        "The f-string is denoted by placing an \"f\" just in front of the opening  quote that begins the string.  "
      ]
    },
    {
      "cell_type": "code",
      "execution_count": null,
      "metadata": {
        "id": "HT273O3rCJe-",
        "outputId": "45a24043-f43f-4148-c3e2-ce89122aab0f",
        "colab": {
          "base_uri": "https://localhost:8080/"
        }
      },
      "outputs": [
        {
          "output_type": "stream",
          "name": "stdout",
          "text": [
            "The value of a is 10\n",
            "The value of a plus 5 is 15\n"
          ]
        }
      ],
      "source": [
        "a = 10\n",
        "print(f'The value of a is {a}')\n",
        "print(f'The value of a plus 5 is {a+5}')"
      ]
    },
    {
      "cell_type": "markdown",
      "metadata": {
        "id": "j7i_rDGWCJfD"
      },
      "source": [
        "Varied methods of printing numbers in Python."
      ]
    },
    {
      "cell_type": "code",
      "execution_count": null,
      "metadata": {
        "id": "83NAR22gCJfE",
        "outputId": "52bba4c1-a5d8-4755-bc1d-204d8102e6f3",
        "colab": {
          "base_uri": "https://localhost:8080/"
        }
      },
      "outputs": [
        {
          "output_type": "stream",
          "name": "stdout",
          "text": [
            "a and a+1  are 5 6\n",
            "a is 5\n",
            "a and a+1 are 56\n",
            "a and a+1 are 5.00 or 6\n"
          ]
        }
      ],
      "source": [
        "a = 5\n",
        "\n",
        "print(f'a and a+1  are {a} {a+1}') \n",
        "print('a is {}'.format(a))\n",
        "print('a and a+1 are '  +str(a)+str(a+1))\n",
        "print('a and a+1 are %.2f or %d' %(a,a+1))  # C like method"
      ]
    },
    {
      "cell_type": "markdown",
      "metadata": {
        "id": "ZP2nEqz4CJfG"
      },
      "source": [
        "if-statements\n",
        "\n",
        "A block usually begins after a colon and includes any lines at the same level of indent. Unlike many other programming languages, Python uses whitespace to define blocks of code. *Mixing both spaces and tabs in the same program is not recommended.*  "
      ]
    },
    {
      "cell_type": "code",
      "execution_count": null,
      "metadata": {
        "id": "VBhsRS66CJfG",
        "outputId": "d1cf5379-2cbb-4f16-d38b-38e0d8345fef",
        "colab": {
          "base_uri": "https://localhost:8080/"
        }
      },
      "outputs": [
        {
          "output_type": "stream",
          "name": "stdout",
          "text": [
            "The variable a is not greater than 5\n"
          ]
        }
      ],
      "source": [
        "a = 5\n",
        "if a>5:\n",
        "    print('The variable a is greater than 5.')\n",
        "else:\n",
        "    print('The variable a is not greater than 5')"
      ]
    },
    {
      "cell_type": "markdown",
      "metadata": {
        "id": "7Qi_G8u1CJfI"
      },
      "source": [
        "nested if-statement\n",
        "\n",
        "\"elif\" command means \"else if\"\n",
        "\n",
        "Operators:\n",
        "\n",
        "* equal (\"==\")  -> *Equal (\"=\") operator is only used to assign values to variables*\n",
        "* greater than (\">\"), \n",
        "* less than (\"<\"), \n",
        "* greater than or equal (\">=\"), \n",
        "* less than or equal (\"<=\")\n",
        "* not equal (\"!=\")"
      ]
    },
    {
      "cell_type": "code",
      "execution_count": null,
      "metadata": {
        "id": "E_5bASinCJfI",
        "outputId": "c90d6711-eb52-4fc4-f86b-1943b5627c9b",
        "colab": {
          "base_uri": "https://localhost:8080/"
        }
      },
      "outputs": [
        {
          "output_type": "stream",
          "name": "stdout",
          "text": [
            "The variable a is 5\n",
            "The variable b is also 6\n"
          ]
        }
      ],
      "source": [
        "a = 5\n",
        "b = 6\n",
        "\n",
        "if a==5:\n",
        "    print('The variable a is 5')\n",
        "    if b==6:\n",
        "        print('The variable b is also 6')\n",
        "elif a==6:\n",
        "    print('The variable a is 6')\n",
        "    "
      ]
    },
    {
      "cell_type": "markdown",
      "metadata": {
        "id": "K1x-w0YiCJfI"
      },
      "source": [
        "**range** operation is use to loop over a range of numbers, oft used with  **for** loop"
      ]
    },
    {
      "cell_type": "code",
      "execution_count": null,
      "metadata": {
        "id": "LWGoLaP9CJfI",
        "outputId": "7cef2488-bd6d-48a5-ff4d-4e86af560328",
        "colab": {
          "base_uri": "https://localhost:8080/"
        }
      },
      "outputs": [
        {
          "output_type": "stream",
          "name": "stdout",
          "text": [
            "1\n",
            "2\n",
            "3\n",
            "4\n",
            "10\n",
            "9\n",
            "8\n",
            "7\n",
            "6\n"
          ]
        }
      ],
      "source": [
        "for x in range(1, 5):  \n",
        "    print(x)\n",
        "for x in range(10,5,-1):\n",
        "    print(x)"
      ]
    },
    {
      "cell_type": "markdown",
      "metadata": {
        "id": "MpNelUcdCJfI"
      },
      "source": [
        "**for** example"
      ]
    },
    {
      "cell_type": "code",
      "execution_count": null,
      "metadata": {
        "id": "FEXGTNxXCJfK",
        "outputId": "8215a370-e26e-4e5c-d05b-4c989a909537",
        "colab": {
          "base_uri": "https://localhost:8080/"
        }
      },
      "outputs": [
        {
          "output_type": "stream",
          "name": "stdout",
          "text": [
            "Adding 1, sum so far is 1\n",
            "Adding 2, sum so far is 3\n",
            "Adding 3, sum so far is 6\n",
            "Adding 4, sum so far is 10\n",
            "Final sum: 10\n"
          ]
        }
      ],
      "source": [
        "acc = 0\n",
        "for x in range(1, 5):\n",
        "    acc += x\n",
        "    print(f\"Adding {x}, sum so far is {acc}\")\n",
        "print(f\"Final sum: {acc}\")"
      ]
    },
    {
      "cell_type": "markdown",
      "metadata": {
        "id": "t52uvIsfWQKz"
      },
      "source": [
        "# Part 2: Python Lists, Dictionaries, Sets and JSON\n",
        "\n",
        "* **Dictionary** - A dictionary is a mutable unordered collection that Python indexes with name and value pairs.\n",
        "* **List** - A list is a mutable ordered collection that allows duplicate elements.\n",
        "* **Set** - A set is a mutable unordered collection with no duplicate elements.\n",
        "* **Tuple** - A tuple *(pol. krotki)* is an immutable ordered collection that allows duplicate elements.\n",
        "\n",
        "Most Python collections are mutable, which means that the program can add and remove elements after definition.\n",
        "\n",
        "An immutable collection cannot add or remove items after definition.  \n",
        "\n",
        "It is also essential to understand that an ordered collection means that items maintain their order as the program adds them to a collection.  This order might not be any specific ordering, such as alphabetic or numeric.\n",
        "\n",
        "Lists and tuples are very similar in Python and are often confused. The significant difference is that a list is mutable, but a tuple isn’t. So, we include a list when we want to contain similar items, and include a tuple when we know what information goes into it ahead of time.\n",
        "\n",
        "Many programming languages contain a data collection called an array.  The array type is noticeably absent in Python.  Generally, the programmer will use a list in place of an array in Python.  Arrays in most programming languages were fixed-length, requiring the program to know the maximum number of elements needed ahead of time.  This restriction leads to the infamous array-overrun bugs and security issues.  The Python list is much more flexible in that the program can dynamically change the size of a list.\n",
        "\n",
        "\n",
        "\n",
        "### Lists and Tuples\n",
        "\n",
        "For a Python program, lists and tuples are very similar.  It is possible to get by as a programmer using only lists and ignoring tuples.  Both lists and tuples hold an ordered collection of items.\n",
        "\n",
        "The primary difference that you will see syntactically is that a list is enclosed by square braces [] and a tuple is enclosed by parenthesis ().  The following code defines both list and tuple."
      ]
    },
    {
      "cell_type": "code",
      "execution_count": null,
      "metadata": {
        "id": "NA0i9dx9WQK1",
        "outputId": "7d04855a-927e-421b-98b5-21272d3809e6",
        "colab": {
          "base_uri": "https://localhost:8080/"
        }
      },
      "outputs": [
        {
          "output_type": "stream",
          "name": "stdout",
          "text": [
            "['a', 'bbb', 'c', 'd']\n",
            "('a', 'b', 'c', 'd')\n"
          ]
        }
      ],
      "source": [
        "l = ['a', 'bbb', 'c', 'd']\n",
        "t = ('a', 'b', 'c', 'd')\n",
        "\n",
        "print(l)\n",
        "print(t)"
      ]
    },
    {
      "cell_type": "markdown",
      "metadata": {
        "id": "nKpa_LDKWQK2"
      },
      "source": [
        "a list is mutable, (the program can change it), a tuple is immutable, (the program cannot change it).\n",
        "\n",
        "Python indexes lists starting at element 0. (Python is zero-based!)"
      ]
    },
    {
      "cell_type": "code",
      "execution_count": null,
      "metadata": {
        "id": "LXxUPeb3WQK3",
        "outputId": "426720f3-6840-4bf2-8711-bbc047d5cc42",
        "colab": {
          "base_uri": "https://localhost:8080/"
        }
      },
      "outputs": [
        {
          "output_type": "stream",
          "name": "stdout",
          "text": [
            "['a', 'changed', 'c', 'd']\n"
          ]
        }
      ],
      "source": [
        "l[1] = 'changed'\n",
        "print(l)\n",
        "\n",
        "# t[1] = 'changed' # This would result in an error\n",
        "# print(l)\n",
        "\n"
      ]
    },
    {
      "cell_type": "markdown",
      "metadata": {
        "id": "jIH2P5iSWQK6"
      },
      "source": [
        "**for-in** statement ->  loop over every element in a collection, such as a list or a tuple."
      ]
    },
    {
      "cell_type": "code",
      "execution_count": null,
      "metadata": {
        "id": "G-3fU7R5WQK7",
        "outputId": "5face1cf-e792-42dd-9c53-34e962df6451",
        "colab": {
          "base_uri": "https://localhost:8080/"
        }
      },
      "outputs": [
        {
          "output_type": "stream",
          "name": "stdout",
          "text": [
            "a\n",
            "changed\n",
            "c\n",
            "d\n"
          ]
        }
      ],
      "source": [
        "# Iterate over a collection.\n",
        "for s in l:\n",
        "    print(s)"
      ]
    },
    {
      "cell_type": "markdown",
      "metadata": {
        "id": "I1POX0r2WQK8"
      },
      "source": [
        "The **enumerate** function -> for enumerating over a collection and having access to the index of the element."
      ]
    },
    {
      "cell_type": "code",
      "source": [
        "print(enumerate(l))"
      ],
      "metadata": {
        "colab": {
          "base_uri": "https://localhost:8080/"
        },
        "id": "xtRgjlzCb_ZG",
        "outputId": "c39a14c7-12ca-4b1e-ee9a-a6c83c56f6ca"
      },
      "execution_count": null,
      "outputs": [
        {
          "output_type": "stream",
          "name": "stdout",
          "text": [
            "<enumerate object at 0x7f3bad49dc30>\n"
          ]
        }
      ]
    },
    {
      "cell_type": "code",
      "execution_count": null,
      "metadata": {
        "id": "ceUHjaQ8WQK9",
        "outputId": "4728f293-ac0f-47bd-8278-d3d1cb47a734",
        "colab": {
          "base_uri": "https://localhost:8080/"
        }
      },
      "outputs": [
        {
          "output_type": "stream",
          "name": "stdout",
          "text": [
            "0:a\n",
            "1:changed\n",
            "2:c\n",
            "3:d\n"
          ]
        }
      ],
      "source": [
        "# Iterate over a collection, and know where your index.  (Python is zero-based!)\n",
        "for i,ll in enumerate(l):\n",
        "    print(f\"{i}:{ll}\")"
      ]
    },
    {
      "cell_type": "markdown",
      "metadata": {
        "id": "1lZM4NZxWQK-"
      },
      "source": [
        "A **list** can have multiple objects added to it, such as strings.  Duplicate values are allowed.  **Tuples** do not allow the program to add additional objects after definition."
      ]
    },
    {
      "cell_type": "code",
      "execution_count": null,
      "metadata": {
        "id": "TVmfe8R5WQK_",
        "outputId": "954652ee-9746-42fb-f7ac-dd149dfedbec",
        "colab": {
          "base_uri": "https://localhost:8080/"
        }
      },
      "outputs": [
        {
          "output_type": "stream",
          "name": "stdout",
          "text": [
            "['a', 'b', 'c', 'c']\n"
          ]
        }
      ],
      "source": [
        "# Manually add items, lists allow duplicates\n",
        "c = []\n",
        "c.append('a')\n",
        "c.append('b')\n",
        "c.append('c')\n",
        "c.append('c')\n",
        "print(c)"
      ]
    },
    {
      "cell_type": "markdown",
      "metadata": {
        "id": "HYOIJGtqWQLA"
      },
      "source": [
        "Ordered collections, such as lists and tuples, allow you to access an element by its index number, such as is done in the following code. Unordered collections, such as dictionaries and sets, do not allow the program to access them in this way."
      ]
    },
    {
      "cell_type": "code",
      "execution_count": null,
      "metadata": {
        "id": "fBbQ4LBWWQLA",
        "outputId": "7dba48cd-d8fb-4d3a-cec1-0bcd20af1bb6",
        "colab": {
          "base_uri": "https://localhost:8080/"
        }
      },
      "outputs": [
        {
          "output_type": "stream",
          "name": "stdout",
          "text": [
            "b\n"
          ]
        }
      ],
      "source": [
        "print(c[1])"
      ]
    },
    {
      "cell_type": "markdown",
      "metadata": {
        "id": "plE1CawNWQLB"
      },
      "source": [
        "**list**  - insert and remove"
      ]
    },
    {
      "cell_type": "code",
      "execution_count": null,
      "metadata": {
        "id": "AmsomBsHWQLB",
        "outputId": "89d23982-6696-4c9f-a72a-e8c351a6017a",
        "colab": {
          "base_uri": "https://localhost:8080/"
        }
      },
      "outputs": [
        {
          "output_type": "stream",
          "name": "stdout",
          "text": [
            "['a', 'b', 'c', 'b']\n",
            "['a0', 'a', 'b', 'c', 'b']\n",
            "['a0', 'a', 'c', 'b']\n",
            "['a', 'c', 'b']\n",
            "['c', 'b']\n"
          ]
        }
      ],
      "source": [
        "# Insert\n",
        "c = ['a', 'b', 'c', 'b']\n",
        "print(c)\n",
        "c.insert(0, 'a0')\n",
        "print(c)\n",
        "c.remove('b') # # Remove first occurenc of value\n",
        "print(c)\n",
        "c.pop(0)  # Remove at index\n",
        "print(c)\n",
        "del c[0]  # Remove at index or range\n",
        "print(c)"
      ]
    },
    {
      "cell_type": "markdown",
      "metadata": {
        "id": "WkLoW1zQWQLC"
      },
      "source": [
        "### Sets\n",
        "**set**  -> an unordered collection of objects, but sets do *not* allow duplicates.  If a program adds a duplicate item to a set, only one copy of each item remains in the collection.  Adding a duplicate item to a set does not result in an error.   Any of the following techniques will define a set."
      ]
    },
    {
      "cell_type": "code",
      "execution_count": null,
      "metadata": {
        "id": "AUwIohk_WQLC",
        "outputId": "f469fc09-ee3e-49c4-cced-21ee2ba72341",
        "colab": {
          "base_uri": "https://localhost:8080/"
        }
      },
      "outputs": [
        {
          "output_type": "stream",
          "name": "stdout",
          "text": [
            "{'x'}\n",
            "{'b', 'a', 'c'}\n",
            "{'b', 'a', 'c'}\n"
          ]
        }
      ],
      "source": [
        "s1 = set()\n",
        "s1.add('x')   # Sets add, lists append.  I find this annoying.\n",
        "s2 = {'a', 'b', 'c'}\n",
        "l=['a', 'b', 'c']\n",
        "s3 = set(l)\n",
        "print(s1)\n",
        "print(s2)\n",
        "print(s3)"
      ]
    },
    {
      "cell_type": "markdown",
      "metadata": {
        "id": "Lz5TqO4eWQLE"
      },
      "source": [
        "## Dictionaries\n",
        "\n",
        "dictionary ->  a collection of name-value pairs"
      ]
    },
    {
      "cell_type": "code",
      "execution_count": null,
      "metadata": {
        "id": "iH_Dhv9mWQLE",
        "outputId": "6a1a2df8-c808-47ec-a96f-ed7d4543fe30",
        "colab": {
          "base_uri": "https://localhost:8080/"
        }
      },
      "outputs": [
        {
          "output_type": "stream",
          "name": "stdout",
          "text": [
            "{'name': 'Jeff', 'address': '123 Main'}\n",
            "Jeff\n",
            "Name is defined\n",
            "age undefined\n"
          ]
        }
      ],
      "source": [
        "d = {'name': \"Jeff\", 'address':\"123 Main\"}\n",
        "print(d)\n",
        "print(d['name'])\n",
        "\n",
        "if 'name' in d:\n",
        "    print(\"Name is defined\")\n",
        "\n",
        "if 'age' in d:\n",
        "    print(\"age defined\")\n",
        "else:\n",
        "    print(\"age undefined\")"
      ]
    },
    {
      "cell_type": "markdown",
      "metadata": {
        "id": "7fnxVUJDWQLF"
      },
      "source": [
        "do not attempt to direct access an undefined key"
      ]
    },
    {
      "cell_type": "code",
      "execution_count": null,
      "metadata": {
        "id": "-AkPlmW1WQLF",
        "outputId": "47b2c221-bab4-49f1-9e30-d5114d061b28",
        "colab": {
          "base_uri": "https://localhost:8080/"
        }
      },
      "outputs": [
        {
          "output_type": "stream",
          "name": "stdout",
          "text": [
            "None\n",
            "undefined\n"
          ]
        }
      ],
      "source": [
        "#print(d['size'])\n",
        "print(d.get('size'))\n",
        "print(d.get('size', 'undefined'))\n"
      ]
    },
    {
      "cell_type": "markdown",
      "metadata": {
        "id": "mdu6t6MFWQLG"
      },
      "source": [
        "Access the individual keys and values of a dictionary."
      ]
    },
    {
      "cell_type": "code",
      "execution_count": null,
      "metadata": {
        "id": "wLQbuQ3sWQLG",
        "outputId": "b448650e-202b-40d8-97de-677505ac5a6a",
        "colab": {
          "base_uri": "https://localhost:8080/"
        }
      },
      "outputs": [
        {
          "output_type": "stream",
          "name": "stdout",
          "text": [
            "Key: dict_keys(['name', 'address'])\n",
            "Values: dict_values(['Jeff', '123 Main'])\n"
          ]
        }
      ],
      "source": [
        "d = {'name': \"Jeff\", 'address':\"123 Main\"}\n",
        "# All of the keys\n",
        "print(f\"Key: {d.keys()}\")\n",
        "\n",
        "# All of the values\n",
        "print(f\"Values: {d.values()}\")"
      ]
    },
    {
      "cell_type": "markdown",
      "metadata": {
        "id": "cfmxR1KMWQLG"
      },
      "source": [
        "A hybrid usage of dictionaries and lists.  "
      ]
    },
    {
      "cell_type": "code",
      "execution_count": null,
      "metadata": {
        "id": "3a5rhojbWQLG",
        "outputId": "6db6f642-6848-4aa0-a7af-f5f548f84b61",
        "colab": {
          "base_uri": "https://localhost:8080/"
        }
      },
      "outputs": [
        {
          "output_type": "stream",
          "name": "stdout",
          "text": [
            "[{'name': 'Jeff & Tracy Heaton', 'pets': ['Wynton', 'Cricket', 'Hickory']}, {'name': 'John Smith', 'pets': ['rover']}, {'name': 'Jane Doe'}]\n",
            "Customers:\n",
            "Jeff & Tracy Heaton:['Wynton', 'Cricket', 'Hickory']\n",
            "John Smith:['rover']\n",
            "Jane Doe:no pets\n"
          ]
        }
      ],
      "source": [
        "# Python list & dictionary structures\n",
        "customers = [\n",
        "    {\"name\": \"Jeff & Tracy Heaton\", \"pets\": [\"Wynton\", \"Cricket\", \n",
        "        \"Hickory\"]},\n",
        "    {\"name\": \"John Smith\", \"pets\": [\"rover\"]},\n",
        "    {\"name\": \"Jane Doe\"}\n",
        "]\n",
        "\n",
        "print(customers)\n",
        "print(\"Customers:\")\n",
        "for customer in customers:\n",
        "    print(f\"{customer['name']}:{customer.get('pets', 'no pets')}\")"
      ]
    },
    {
      "cell_type": "markdown",
      "metadata": {
        "id": "1YtXk0lVWQLH"
      },
      "source": [
        "## More Advanced Lists\n",
        "\n",
        "Two lists can be combined into a single list by the **zip** command.  The returned zip object can be convert into a list"
      ]
    },
    {
      "cell_type": "code",
      "execution_count": null,
      "metadata": {
        "id": "QfDKMRt1WQLH",
        "outputId": "b4bc375c-bc47-4866-c408-cdf2eee36ef7",
        "colab": {
          "base_uri": "https://localhost:8080/"
        }
      },
      "outputs": [
        {
          "output_type": "stream",
          "name": "stdout",
          "text": [
            "<zip object at 0x7fcb4b1dbe60>\n",
            "[(1, 5), (2, 4), (3, 3), (4, 2), (5, 1)]\n"
          ]
        }
      ],
      "source": [
        "a = [1,2,3,4,5]\n",
        "b = [5,4,3,2,1]\n",
        "\n",
        "print(zip(a,b))\n",
        "print(list(zip(a,b)))"
      ]
    },
    {
      "cell_type": "markdown",
      "metadata": {
        "id": "yAO9uDwZWQLJ"
      },
      "source": [
        "The zip command inside of a for-loop."
      ]
    },
    {
      "cell_type": "code",
      "execution_count": null,
      "metadata": {
        "id": "m16ttTssWQLK",
        "outputId": "d2269a9f-61a3-4cbe-bc1b-554f444a7435"
      },
      "outputs": [
        {
          "name": "stdout",
          "output_type": "stream",
          "text": [
            "1 - 5\n",
            "2 - 4\n",
            "3 - 3\n",
            "4 - 2\n",
            "5 - 1\n"
          ]
        }
      ],
      "source": [
        "a = [1,2,3,4,5]\n",
        "b = [5,4,3,2,1]\n",
        "\n",
        "for x,y in zip(a,b):\n",
        "    print(f'{x} - {y}')"
      ]
    },
    {
      "cell_type": "markdown",
      "metadata": {
        "id": "ncw-eYgKWQLK"
      },
      "source": [
        "The zip command will only process elements up to the length of the smaller collection."
      ]
    },
    {
      "cell_type": "code",
      "execution_count": null,
      "metadata": {
        "id": "q-_FvVXzWQLL",
        "outputId": "b59c3473-e4c4-4eeb-8e6a-c897eca3c3ce",
        "colab": {
          "base_uri": "https://localhost:8080/"
        }
      },
      "outputs": [
        {
          "output_type": "stream",
          "name": "stdout",
          "text": [
            "[(1, 5), (2, 4), (3, 3)]\n"
          ]
        }
      ],
      "source": [
        "a = [1,2,3,4,5]\n",
        "b = [5,4,3]\n",
        "\n",
        "print(list(zip(a,b)))"
      ]
    },
    {
      "cell_type": "markdown",
      "metadata": {
        "id": "cM_rZUiLWQLM"
      },
      "source": [
        "The enumerate command allows the loop to know which element index it is currently on, thus allowing the program to be able to change the value of the current element of the collection. "
      ]
    },
    {
      "cell_type": "code",
      "execution_count": null,
      "metadata": {
        "id": "a1BlSBk7WQLM",
        "outputId": "68d9390f-479e-4ecd-a957-5ec2a734d7f3"
      },
      "outputs": [
        {
          "name": "stdout",
          "output_type": "stream",
          "text": [
            "[2, 5, 3, 5, 5, 3, 2, 1]\n"
          ]
        }
      ],
      "source": [
        "a = [2, 10, 3, 11, 10, 3, 2, 1]\n",
        "for i, x in enumerate(a):\n",
        "    if x>5:\n",
        "        a[i] = 5\n",
        "print(a)"
      ]
    },
    {
      "cell_type": "markdown",
      "metadata": {
        "id": "kVmtvSUGWQLM"
      },
      "source": [
        "The list comprehension command "
      ]
    },
    {
      "cell_type": "code",
      "execution_count": null,
      "metadata": {
        "id": "NzfmgXH8WQLN",
        "outputId": "bc176cd0-6ec8-4931-981b-586f4eed1de7",
        "colab": {
          "base_uri": "https://localhost:8080/"
        }
      },
      "outputs": [
        {
          "output_type": "stream",
          "name": "stdout",
          "text": [
            "[0, 10, 20, 30, 40, 50, 60]\n"
          ]
        }
      ],
      "source": [
        "lst = [x*10 for x in range(10) if x<7]\n",
        "print(lst)"
      ]
    },
    {
      "cell_type": "code",
      "source": [
        "fruits = [\"apple\", \"banana\", \"cherry\", \"kiwi\", \"mango\"]\n",
        "\n",
        "fruits_list_1 = []\n",
        "for x in fruits:\n",
        "  if \"a\" in x:\n",
        "    fruits_list_1.append(x)\n",
        "print(fruits_list_1) \n",
        "\n",
        "fruits_list_2 = [x for x in fruits if \"a\" in x]\n",
        "print(fruits_list_2) \n"
      ],
      "metadata": {
        "colab": {
          "base_uri": "https://localhost:8080/"
        },
        "id": "n8VR_QYFrJ_o",
        "outputId": "280c1748-9e46-484c-ef43-98db138ca512"
      },
      "execution_count": null,
      "outputs": [
        {
          "output_type": "stream",
          "name": "stdout",
          "text": [
            "['apple', 'banana', 'mango']\n",
            "['apple', 'banana', 'mango']\n"
          ]
        }
      ]
    },
    {
      "cell_type": "markdown",
      "metadata": {
        "id": "DieqjfNWWQLN"
      },
      "source": [
        "A dictionary can also be a comprehension.  The general format for this is:  \n",
        "\n",
        "```\n",
        "dict_variable = {key:value for (key,value) in dictonary.items()}\n",
        "```\n",
        "\n",
        "A common use for this is to build up an index to symbolic column names."
      ]
    },
    {
      "cell_type": "code",
      "execution_count": null,
      "metadata": {
        "id": "0tG0D3Y1WQLN",
        "outputId": "c20c56e9-a3be-4efe-ccdd-1eb3da29870b",
        "colab": {
          "base_uri": "https://localhost:8080/"
        }
      },
      "outputs": [
        {
          "output_type": "stream",
          "name": "stdout",
          "text": [
            "{'col-zero': 0, 'col-one': 1, 'col-two': 2, 'col-three': 3}\n"
          ]
        }
      ],
      "source": [
        "text = ['col-zero','col-one', 'col-two', 'col-three']\n",
        "lookup = {key:value for (value,key) in enumerate(text)}\n",
        "print(lookup)"
      ]
    },
    {
      "cell_type": "markdown",
      "metadata": {
        "id": "guYep89qWQLN"
      },
      "source": [
        "This can be used to easily find the index of a column by name."
      ]
    },
    {
      "cell_type": "code",
      "execution_count": null,
      "metadata": {
        "id": "vy2AjnJOWQLN",
        "outputId": "54b8bbd2-e8e7-442f-95ad-033921f1b5f9"
      },
      "outputs": [
        {
          "name": "stdout",
          "output_type": "stream",
          "text": [
            "The index of \"col-two\" is 2\n"
          ]
        }
      ],
      "source": [
        "print(f'The index of \"col-two\" is {lookup[\"col-two\"]}')"
      ]
    },
    {
      "cell_type": "markdown",
      "metadata": {
        "id": "llABg1M6WQLN"
      },
      "source": [
        "### An Introduction to JSON\n",
        "\n",
        "Dictionaries and lists can be combined. This syntax is closely related to [JSON](https://en.wikipedia.org/wiki/JSON).  Dictionaries and lists together are a good way to build very complex data structures.  While Python allows quotes (\") and apostrophe (') for strings, JSON only allows double-quotes (\"). We will cover JSON in much greater detail later in this module.\n",
        "\n",
        "Data stored in a CSV file must be flat; that is, it must fit into rows and columns. Most people refer to this type of data as structured or tabular. This data is tabular because the number of columns is the same for every row.  Individual rows may be missing a value for a column; however, these rows still have the same columns.  \n",
        "\n",
        "This sort of data is convenient for machine learning because most models, such as neural networks, also expect incoming data to be of fixed dimensions. Real-world information is not always so tabular.  Consider if the rows represent customers.  These people might have multiple phone numbers and addresses.  How would you describe such data using a fixed number of columns?  It would be useful to have a list of these courses in each row that can be of a variable length for each row, or student.\n",
        "\n",
        "JavaScript Object Notation (JSON) is a standard file format that stores data in a hierarchical format similar to eXtensible Markup Language (XML).  JSON is nothing more than a hierarchy of lists and dictionaries.  Programmers refer to this sort of data as semi-structured data or hierarchical data.  The following is a sample JSON file.\n",
        "\n",
        "```\n",
        "{\n",
        "  \"firstName\": \"John\",\n",
        "  \"lastName\": \"Smith\",\n",
        "  \"isAlive\": true,\n",
        "  \"age\": 27,\n",
        "  \"address\": {\n",
        "    \"streetAddress\": \"21 2nd Street\",\n",
        "    \"city\": \"New York\",\n",
        "    \"state\": \"NY\",\n",
        "    \"postalCode\": \"10021-3100\"\n",
        "  },\n",
        "  \"phoneNumbers\": [\n",
        "    {\n",
        "      \"type\": \"home\",\n",
        "      \"number\": \"212 555-1234\"\n",
        "    },\n",
        "    {\n",
        "      \"type\": \"office\",\n",
        "      \"number\": \"646 555-4567\"\n",
        "    },\n",
        "    {\n",
        "      \"type\": \"mobile\",\n",
        "      \"number\": \"123 456-7890\"\n",
        "    }\n",
        "  ],\n",
        "  \"children\": [],\n",
        "  \"spouse\": null\n",
        "}\n",
        "```\n",
        "\n",
        "The above file may look somewhat like Python code.  You can see curly braces that define dictionaries and square brackets that define lists.  JSON does require there to be a single root element.  A list or dictionary can fulfill this role.  JSON requires double-quotes to enclose strings and names.  Single quotes are not allowed in JSON.\n",
        "\n",
        "JSON files are always legal JavaScript syntax.  JSON is also generally valid as Python code, as demonstrated by the following Python program."
      ]
    },
    {
      "cell_type": "code",
      "execution_count": null,
      "metadata": {
        "id": "amcKF-IHWQLP"
      },
      "outputs": [],
      "source": [
        "jsonHardCoded = {\n",
        "  \"firstName\": \"John\",\n",
        "  \"lastName\": \"Smith\",\n",
        "  \"isAlive\": True,\n",
        "  \"age\": 27,\n",
        "  \"address\": {\n",
        "    \"streetAddress\": \"21 2nd Street\",\n",
        "    \"city\": \"New York\",\n",
        "    \"state\": \"NY\",\n",
        "    \"postalCode\": \"10021-3100\"\n",
        "  },\n",
        "  \"phoneNumbers\": [\n",
        "    {\n",
        "      \"type\": \"home\",\n",
        "      \"number\": \"212 555-1234\"\n",
        "    },\n",
        "    {\n",
        "      \"type\": \"office\",\n",
        "      \"number\": \"646 555-4567\"\n",
        "    },\n",
        "    {\n",
        "      \"type\": \"mobile\",\n",
        "      \"number\": \"123 456-7890\"\n",
        "    }\n",
        "  ],\n",
        "  \"children\": [],\n",
        "  \"spouse\": None\n",
        "}"
      ]
    },
    {
      "cell_type": "markdown",
      "metadata": {
        "id": "JoyVTLszWQLQ"
      },
      "source": [
        "Generally, it is better to read JSON from files, strings, or the Internet than hard coding, as demonstrated here.  However, for internal data structures, sometimes such hard-coding can be useful.\n",
        "\n",
        "Python contains support for JSON.  When a Python program loads a JSON  the root list or dictionary is returned, as demonstrated by the following code."
      ]
    },
    {
      "cell_type": "code",
      "execution_count": null,
      "metadata": {
        "id": "PMpOHjrhWQLQ",
        "outputId": "721c3e39-caf6-44d4-845c-7c755e9b3d0f"
      },
      "outputs": [
        {
          "name": "stdout",
          "output_type": "stream",
          "text": [
            "First name: Jeff\n",
            "Last name: Heaton\n"
          ]
        }
      ],
      "source": [
        "import json\n",
        "\n",
        "json_string = '{\"first\":\"Jeff\",\"last\":\"Heaton\"}'\n",
        "obj = json.loads(json_string)\n",
        "print(f\"First name: {obj['first']}\")\n",
        "print(f\"Last name: {obj['last']}\")"
      ]
    },
    {
      "cell_type": "markdown",
      "metadata": {
        "id": "tIeOH8r5WQLR"
      },
      "source": [
        "Python programs can also load JSON from a file or URL."
      ]
    },
    {
      "cell_type": "code",
      "execution_count": null,
      "metadata": {
        "id": "mD_gPL9NWQLR",
        "outputId": "d3a34b77-90b1-40e7-eb56-eb4d7e8d70b6",
        "colab": {
          "base_uri": "https://localhost:8080/"
        }
      },
      "outputs": [
        {
          "output_type": "stream",
          "name": "stdout",
          "text": [
            "{'firstName': 'John', 'lastName': 'Smith', 'isAlive': True, 'age': 27, 'address': {'streetAddress': '21 2nd Street', 'city': 'New York', 'state': 'NY', 'postalCode': '10021-3100'}, 'phoneNumbers': [{'type': 'home', 'number': '212 555-1234'}, {'type': 'office', 'number': '646 555-4567'}, {'type': 'mobile', 'number': '123 456-7890'}], 'children': [], 'spouse': None}\n"
          ]
        }
      ],
      "source": [
        "import requests\n",
        "\n",
        "r = requests.get(\"https://raw.githubusercontent.com/jeffheaton/\"\n",
        "                 +\"t81_558_deep_learning/master/person.json\")\n",
        "print(r.json())"
      ]
    },
    {
      "cell_type": "markdown",
      "metadata": {
        "id": "w5tMWlNjWQLR"
      },
      "source": [
        "Python programs can easily generate JSON strings from Python objects of dictionaries and lists."
      ]
    },
    {
      "cell_type": "code",
      "execution_count": null,
      "metadata": {
        "id": "A6s2TwBHWQLR",
        "outputId": "66ce7d95-6e0e-4500-dc95-35a9b66bc81f"
      },
      "outputs": [
        {
          "name": "stdout",
          "output_type": "stream",
          "text": [
            "{\"first\": \"Jeff\", \"last\": \"Heaton\"}\n"
          ]
        }
      ],
      "source": [
        "python_obj = {\"first\":\"Jeff\",\"last\":\"Heaton\"}\n",
        "print(json.dumps(python_obj))"
      ]
    },
    {
      "cell_type": "markdown",
      "metadata": {
        "id": "OkgdIzKzWQLS"
      },
      "source": [
        "A data scientist will generally encounter JSON when they access web services to get their data.  A data scientist might use the techniques presented in this section to convert the semi-structured JSON data into tabular data for the program to use with a model such as a neural network."
      ]
    },
    {
      "cell_type": "code",
      "execution_count": null,
      "metadata": {
        "id": "ASKKyX8MWQLS"
      },
      "outputs": [],
      "source": [
        ""
      ]
    }
  ],
  "metadata": {
    "anaconda-cloud": {},
    "kernelspec": {
      "display_name": "Python 3",
      "name": "python3"
    },
    "language_info": {
      "name": "python"
    },
    "colab": {
      "name": "Jeff_intro_python.ipynb",
      "provenance": [],
      "include_colab_link": true
    }
  },
  "nbformat": 4,
  "nbformat_minor": 0
}